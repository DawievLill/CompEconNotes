{
 "cells": [
  {
   "attachments": {},
   "cell_type": "markdown",
   "metadata": {},
   "source": [
    "# The Aiyagari model"
   ]
  },
  {
   "attachments": {},
   "cell_type": "markdown",
   "metadata": {},
   "source": [
    "Here we follow the work of Aiyagari and Huggett. There are many resources to follow here. We will look at a few different implementations in Julia. We have done value function iteration before, this is the simplest method, so we will follow it here as well initially. "
   ]
  },
  {
   "attachments": {},
   "cell_type": "markdown",
   "metadata": {},
   "source": [
    "### Model description"
   ]
  },
  {
   "attachments": {},
   "cell_type": "markdown",
   "metadata": {},
   "source": [
    "Aggregate behaviour is result of market interaction among large number of agents subject to idiosyncratic shocks. This involves asset trading as the main mechanism by which agents smooth consumption. There is also individual dynamics and uncertainty in this model. \n",
    "\n",
    "Aggregate variables are unchanging in this model. \n",
    "\n",
    "Model is built around the standard neoclassical growth model and is modified to include a role for uninsured idiosyncratic risk and liquidity / borrowing constraints."
   ]
  },
  {
   "attachments": {},
   "cell_type": "markdown",
   "metadata": {},
   "source": [
    "### Model ingredients"
   ]
  },
  {
   "attachments": {},
   "cell_type": "markdown",
   "metadata": {},
   "source": [
    "Typical consumption savings problem in infinite horizon. There are two important features of this model. \n",
    "\n",
    "1. Idiosyncratic shocks -- The individual receives exogenous income shocks.\n",
    "2. Incomplete markets -- The individuals cannot trade assets, there is no insurance in this market\n",
    "\n",
    "We first deal with the case where there is no aggregate uncertainty."
   ]
  },
  {
   "attachments": {},
   "cell_type": "markdown",
   "metadata": {},
   "source": [
    "This means that individuals are ex-ante the same, but ex-post they might differ.\n",
    "\n",
    "Importantly, the input into this process, the earnings process, is exogenous. However, the wealth distribution generated from this process is endogenous.. "
   ]
  },
  {
   "attachments": {},
   "cell_type": "markdown",
   "metadata": {},
   "source": [
    "### Solving the model"
   ]
  },
  {
   "attachments": {},
   "cell_type": "markdown",
   "metadata": {},
   "source": [
    "There are a few steps involved in solving the model, plus some techniques that we need to learn. Essentially we have three building blocks. \n",
    "\n",
    "1. Household consumption savings problem (this is the asset supply function)\n",
    "\n",
    "In this part we need to solve for the HH problem (we will use VFI)\n",
    "THen we have to solve for the endogenous stationary distribution\n",
    "Given this distribution and the HH decision we can solve for the aggregate asset supply\n",
    "\n",
    "2. Asset demand function\n",
    "\n",
    "This can easily be gained form the aggregate production function or the government. Think about this in the sense of a neoclassical growth model. \n",
    "\n",
    "3. Find the equilibrium in the asset market\n",
    "\n",
    "Equlibrium refers to the prices and quantities that clear the market"
   ]
  },
  {
   "attachments": {},
   "cell_type": "markdown",
   "metadata": {},
   "source": [
    "#### The household problem"
   ]
  },
  {
   "attachments": {},
   "cell_type": "markdown",
   "metadata": {},
   "source": [
    "To a certain extent we have dealt with this type of problem before, but here we will spell it out in detail. "
   ]
  },
  {
   "attachments": {},
   "cell_type": "markdown",
   "metadata": {},
   "source": []
  }
 ],
 "metadata": {
  "kernelspec": {
   "display_name": "Julia 1.9.0",
   "language": "julia",
   "name": "julia-1.9"
  },
  "language_info": {
   "file_extension": ".jl",
   "mimetype": "application/julia",
   "name": "julia",
   "version": "1.9.0"
  },
  "orig_nbformat": 4
 },
 "nbformat": 4,
 "nbformat_minor": 2
}
