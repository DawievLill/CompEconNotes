{
 "cells": [
  {
   "attachments": {},
   "cell_type": "markdown",
   "metadata": {},
   "source": [
    "# The Aiyagari model"
   ]
  },
  {
   "attachments": {},
   "cell_type": "markdown",
   "metadata": {},
   "source": [
    "Here we follow the work of Aiyagari and Huggett. There are many resources to follow here. We will look at a few different implementations in Julia. We have done value function iteration before, this is the simplest method, so we will follow it here as well initially. "
   ]
  },
  {
   "attachments": {},
   "cell_type": "markdown",
   "metadata": {},
   "source": [
    "## Model description"
   ]
  },
  {
   "attachments": {},
   "cell_type": "markdown",
   "metadata": {},
   "source": [
    "Aggregate behaviour is result of market interaction among large number of agents subject to idiosyncratic shocks. This involves asset trading as the main mechanism by which agents smooth consumption. There is also individual dynamics and uncertainty in this model. \n",
    "\n",
    "Aggregate variables are unchanging in this model. \n",
    "\n",
    "Model is built around the standard neoclassical growth model and is modified to include a role for uninsured idiosyncratic risk and liquidity / borrowing constraints."
   ]
  },
  {
   "attachments": {},
   "cell_type": "markdown",
   "metadata": {},
   "source": [
    "## Model ingredients"
   ]
  },
  {
   "attachments": {},
   "cell_type": "markdown",
   "metadata": {},
   "source": [
    "Typical consumption savings problem in infinite horizon. There are two important features of this model. \n",
    "\n",
    "1. Idiosyncratic shocks -- The individual receives exogenous income shocks (normally due to change in labour productivity / employment status)\n",
    "2. Incomplete markets -- The individuals cannot trade assets, there is no insurance in this market\n",
    "\n",
    "We first deal with the case where there is no aggregate uncertainty."
   ]
  },
  {
   "attachments": {},
   "cell_type": "markdown",
   "metadata": {},
   "source": [
    "This means that individuals are ex-ante the same, but ex-post they might differ.\n",
    "\n",
    "Importantly, the input into this process, the earnings process, is exogenous. However, the wealth distribution generated from this process is endogenous.. "
   ]
  },
  {
   "attachments": {},
   "cell_type": "markdown",
   "metadata": {},
   "source": [
    "## Solving the model"
   ]
  },
  {
   "attachments": {},
   "cell_type": "markdown",
   "metadata": {},
   "source": [
    "There are a few steps involved in solving the model, plus some techniques that we need to learn. Essentially we have three building blocks. \n",
    "\n",
    "1. Household consumption savings problem (this is the asset supply function)\n",
    "\n",
    "In this part we need to solve for the HH problem (we will use VFI)\n",
    "THen we have to solve for the endogenous stationary distribution\n",
    "Given this distribution and the HH decision we can solve for the aggregate asset supply\n",
    "\n",
    "2. Asset demand function\n",
    "\n",
    "This can easily be gained form the aggregate production function or the government. Think about this in the sense of a neoclassical growth model. \n",
    "\n",
    "3. Find the equilibrium in the asset market\n",
    "\n",
    "Equlibrium refers to the prices and quantities that clear the market"
   ]
  },
  {
   "attachments": {},
   "cell_type": "markdown",
   "metadata": {},
   "source": [
    "### The household problem"
   ]
  },
  {
   "attachments": {},
   "cell_type": "markdown",
   "metadata": {},
   "source": [
    "To a certain extent we have dealt with this type of problem before, but here we will spell it out in detail.\n",
    "\n",
    "We have a unit mass of *ex-ante* identical households. These are infinitely lived households face idiosyncratic income shocks (they are said to earn stochastic income). Households differ in their current wealth position (assets) and their labour income.\n",
    "\n",
    "In terms of labour income, this depends on an exogenous state. We assume that the exogenous state process follows a finite state Markov process (with a specific transition / stochastic matrix). The mathematical representation of this will soon follow. \n",
    "\n",
    "They are paid a specific wage rate and have the ability save with a risk free interest rate bond up to some borrowing constraint. Agents do not have access to full set of state contingent Arrow securities, so this is an incomplete market. They can save and borrow assets, as specified before, but there is a borrowing constraint. "
   ]
  },
  {
   "attachments": {},
   "cell_type": "markdown",
   "metadata": {},
   "source": [
    "#### Bellman equation\n",
    "\n",
    "The HH value equation solves the following Bellman equation\n",
    "$$\n",
    "    V(a,s) = \\max_{c,a'} u(c) + \\beta \\sum_{s'} \\Pi(s'|s)V(a',s') = \\max_{c,a'} u(c)+\\beta\\mathbb{E}[V(s',a')|s]\n",
    "$$\n",
    "subject to \n",
    "$$\n",
    "    c + a' = (1+r) a + w s = (1+r) a + y(s)\n",
    "$$\n",
    "and \n",
    "$$    a'\\geq \\underline a = -\\phi\n",
    "$$\n",
    "\n",
    "In the above specification the households split their cash on hand between assets saved for tomorrow and consumption today. They make these choices so as to maximize expected utility subject to a borrowing constraint. \n",
    "\n",
    "We need to think about the steps that we need to take to implement this model. First, we are going to discretise assets and income. We want to discretise the continuum of possible asset states into a fine grid. We also want to calibrate the Markov chain for the income process so it is approximately an AR(1) process with normal innovations. "
   ]
  },
  {
   "attachments": {},
   "cell_type": "markdown",
   "metadata": {},
   "source": [
    "## Discretising assets and income"
   ]
  },
  {
   "attachments": {},
   "cell_type": "markdown",
   "metadata": {},
   "source": [
    "If we want to use VFI we will have to discretise the grid for the state space, which in this case is $(s, a)$. We start with the easiest one to discretise, assets. Households will pick assets $a$ from a specific interval $[\\underline{a},\\infty)$. As you can see, the interval is continuous and we can't represent an infinite number of values in the computer's memory. So in terms of computation we will likely have to construct some finite grid. You might wonder, what happens then if we have to evaluate a point off this grid? In that case we can use some form of interpolation to give us an approximation of what the points would look like off the grid. This is why we dedicated some time to interpolation before. You might recall that this is similar to the idea of *fitted value function iteration* that we talked about in a previous session. \n",
    "\n",
    "How do we choose the grid that we are going to be working with? There are multiple options. \n",
    "\n",
    "However, for this specific problem there are going to be some criteria we have to work with. \n",
    "\n",
    "1. We need to make sure that the points are densely spaced around the borrowing constraint. This is a segment where the policuy function is going to be highly nonlinear and there will be a clustering of households.\n",
    "2. We want to have fewer points at very high levels of assets. The reason is that at high asset levels we are capturing the wealthy households, but the policy function will be quite linear here. If we use linear interpolation here the approximation error will be small.\n",
    "\n",
    "\n",
    "One of the easiest ways to produce an asset grid that will have these properties is the double exponential transformation on the uniformly spaced grid. \n",
    "\n",
    "We start off with uniformly spaced points $u_i$ on an interval $[0,\\bar{u}]$. We then construct the gridpoints $a_i$ by applying the following transformation:\n",
    "\n",
    "$$\n",
    "a_i = \\underline{a} + e^{e^{u_i}-1}-1 \\tag{4}\n",
    "$$\n",
    "\n",
    "This produces a grid with minimum $\\underline{a}$ and maximum $\\underline{a} + e^{e^{\\bar{u}}-1}-1$. To equate the latter with some desired maximum asset gridpoint $\\bar{a}$, we write $\\bar{u} = \\log(1+\\log(1+ \\overline{a} - \\underline{a}))$."
   ]
  },
  {
   "cell_type": "code",
   "execution_count": 17,
   "metadata": {},
   "outputs": [
    {
     "data": {
      "text/plain": [
       "double_exponential_grid (generic function with 1 method)"
      ]
     },
     "metadata": {},
     "output_type": "display_data"
    }
   ],
   "source": [
    "function double_exponential_grid(n, a_min, a_max)\n",
    "    u_max = log(1 + log(1 + a_max - a_min))\n",
    "    u_grid = LinRange(0, u_max, n) # n points uniformly spaced on [0, u_max]\n",
    "    a_grid = a_min .+ exp.(exp.(u_grid) .- 1) .- 1\n",
    "    return a_grid\n",
    "end"
   ]
  },
  {
   "cell_type": "code",
   "execution_count": 18,
   "metadata": {},
   "outputs": [
    {
     "data": {
      "text/plain": [
       "50-element Vector{Float64}:\n",
       "    0.0\n",
       "    0.04975698153883745\n",
       "    0.10459121897869572\n",
       "    0.16516698552593123\n",
       "    0.23225521534472748\n",
       "    0.3067537111300265\n",
       "    0.3897117511542112\n",
       "    0.4823601769936814\n",
       "    0.5861483391931348\n",
       "    0.7027896635934308\n",
       "    ⋮\n",
       "  397.29360849547504\n",
       "  558.1837984762485\n",
       "  797.1067906665255\n",
       " 1157.9643094241846\n",
       " 1712.7444670937211\n",
       " 2581.6825353699523\n",
       " 3969.502746739219\n",
       " 6231.89053821472\n",
       " 9999.99999999999"
      ]
     },
     "metadata": {},
     "output_type": "display_data"
    }
   ],
   "source": [
    "a_grid = double_exponential_grid(50, 0, 10_000) # For 50 points between 0 and 10_000"
   ]
  },
  {
   "attachments": {},
   "cell_type": "markdown",
   "metadata": {},
   "source": [
    "Here is a more \"engineered\" version of the code above. Essentially the same code, but better coding practices applied.  "
   ]
  },
  {
   "cell_type": "code",
   "execution_count": 19,
   "metadata": {},
   "outputs": [
    {
     "data": {
      "text/plain": [
       "dblexponentialspace (generic function with 1 method)"
      ]
     },
     "metadata": {},
     "output_type": "display_data"
    }
   ],
   "source": [
    "function dblexponentialspace(x_min::Real, x_max::Real, n::Int)\n",
    "    n ≤ 2 && throw(error(\"Number of gridpoints must be larger than 2\"))\n",
    "    x_min > x_max && throw(error(\"`x_min` larger than `x_max`\"))\n",
    "    uniform_upper = log(1 + log(1 + x_max - x_min))\n",
    "    uniform_grid = range(start=0, stop=uniform_upper, length=n) # uniform grid\n",
    "    a_grid = @. x_min + exp(exp(uniform_grid) - 1) - 1 # double-exponential transformation\n",
    "    return a_grid\n",
    "end"
   ]
  },
  {
   "cell_type": "code",
   "execution_count": 20,
   "metadata": {},
   "outputs": [
    {
     "data": {
      "text/plain": [
       "50-element Vector{Float64}:\n",
       "    0.0\n",
       "    0.04975698153883745\n",
       "    0.10459121897869572\n",
       "    0.16516698552593123\n",
       "    0.23225521534472748\n",
       "    0.3067537111300265\n",
       "    0.3897117511542112\n",
       "    0.4823601769936814\n",
       "    0.586148339193135\n",
       "    0.7027896635934308\n",
       "    ⋮\n",
       "  397.2936084954743\n",
       "  558.1837984762491\n",
       "  797.1067906665284\n",
       " 1157.9643094241846\n",
       " 1712.7444670937211\n",
       " 2581.6825353699523\n",
       " 3969.5027467392333\n",
       " 6231.89053821472\n",
       " 9999.99999999999"
      ]
     },
     "metadata": {},
     "output_type": "display_data"
    }
   ],
   "source": [
    "dbl_grid = dblexponentialspace(0, 10_000, 50)"
   ]
  },
  {
   "attachments": {},
   "cell_type": "markdown",
   "metadata": {},
   "source": [
    "There are other methods that would also work and deliver similar results. You can check out each of these in turn to see what results they deliver. "
   ]
  },
  {
   "cell_type": "code",
   "execution_count": 21,
   "metadata": {},
   "outputs": [
    {
     "data": {
      "text/plain": [
       "logspace"
      ]
     },
     "metadata": {},
     "output_type": "display_data"
    }
   ],
   "source": [
    "\"\"\"\n",
    "    logspace(x_min::Real, x_max::Real, n::Int) -> Vector{Float64}\n",
    "\n",
    "Generate a vector of `n` points, evenly spaced on a logarithmic scale between `x_min` and `x_max`.\n",
    "\n",
    "# Arguments\n",
    "- `x_min::Real`: The minimum value (inclusive) in the generated vector.\n",
    "- `x_max::Real`: The maximum value (inclusive) in the generated vector.\n",
    "- `n::Int`: The number of points to generate in the vector.\n",
    "\n",
    "# Returns\n",
    "- `Vector{Float64}`: A vector containing the `n` points evenly spaced on a logarithmic scale.\n",
    "\"\"\"\n",
    "function logspace(x_min::Real, x_max::Real, n::Int)\n",
    "    n ≤ 2 && throw(error(\"Number of gridpoints must be larger than 2\"))\n",
    "    x_min > x_max && throw(error(\"`x_min` larger than `x_max`\"))\n",
    "    return exp10.(range(x_min, x_max, n))\n",
    "end"
   ]
  },
  {
   "cell_type": "code",
   "execution_count": 22,
   "metadata": {},
   "outputs": [
    {
     "data": {
      "text/plain": [
       "50-element Vector{Float64}:\n",
       "  1.0\n",
       "  1.2067926406393561e204\n",
       " Inf\n",
       " Inf\n",
       " Inf\n",
       " Inf\n",
       " Inf\n",
       " Inf\n",
       " Inf\n",
       " Inf\n",
       "  ⋮\n",
       " Inf\n",
       " Inf\n",
       " Inf\n",
       " Inf\n",
       " Inf\n",
       " Inf\n",
       " Inf\n",
       " Inf\n",
       " Inf"
      ]
     },
     "metadata": {},
     "output_type": "display_data"
    }
   ],
   "source": [
    "logspace(0, 10_000, 50)"
   ]
  },
  {
   "cell_type": "code",
   "execution_count": 23,
   "metadata": {},
   "outputs": [
    {
     "data": {
      "text/plain": [
       "geomspace"
      ]
     },
     "metadata": {},
     "output_type": "display_data"
    }
   ],
   "source": [
    "\"\"\"\n",
    "    geomspace(x_min::Real, x_max::Real, n::Int) -> Vector{Float64}\n",
    "\n",
    "Generate a vector of `n` points, evenly spaced on a logarithmic scale (geometric progression) between `x_min` and `x_max`.\n",
    "\n",
    "# Arguments\n",
    "- `x_min::Real`: The minimum value (inclusive) in the generated vector.\n",
    "- `x_max::Real`: The maximum value (inclusive) in the generated vector.\n",
    "- `n::Int`: The number of points to generate in the vector.\n",
    "\n",
    "# Returns\n",
    "- `Vector{Float64}`: A vector containing the `n` points evenly spaced on a logarithmic scale (geometric progression).\n",
    "\"\"\"\n",
    "function geomspace(x_min::Real, x_max::Real, n::Int)\n",
    "    n ≤ 2 && throw(error(\"Number of gridpoints must be larger than 2\"))\n",
    "    x_min > x_max && throw(error(\"`x_min` larger than `x_max`\"))\n",
    "    x_min * x_max ≤ 0 && throw(error(\"Invalid combination of `x_min` and `x_max` values\"))\n",
    "    return exp10.(range(log10(x_min), log10(x_max), n))\n",
    "end"
   ]
  },
  {
   "cell_type": "code",
   "execution_count": 24,
   "metadata": {},
   "outputs": [
    {
     "data": {
      "text/plain": [
       "50-element Vector{Float64}:\n",
       "     1.0\n",
       "     1.2067926406393286\n",
       "     1.4563484775012439\n",
       "     1.7575106248547918\n",
       "     2.120950887920191\n",
       "     2.5595479226995357\n",
       "     3.088843596477481\n",
       "     3.72759372031494\n",
       "     4.498432668969445\n",
       "     5.428675439323861\n",
       "     ⋮\n",
       "  2222.9964825261955\n",
       "  2682.6957952797247\n",
       "  3237.457542817643\n",
       "  3906.939937054617\n",
       "  4714.866363457395\n",
       "  5689.866029018299\n",
       "  6866.488450042998\n",
       "  8286.427728546842\n",
       " 10000.0"
      ]
     },
     "metadata": {},
     "output_type": "display_data"
    }
   ],
   "source": [
    "geomspace(1, 10_000, 50)"
   ]
  },
  {
   "cell_type": "code",
   "execution_count": 25,
   "metadata": {},
   "outputs": [
    {
     "data": {
      "text/plain": [
       "nonlinspace"
      ]
     },
     "metadata": {},
     "output_type": "display_data"
    }
   ],
   "source": [
    "\"\"\"\n",
    "    nonlinspace(x_min::Real, x_max::Real, n::Int, phi::Real) -> Vector{Float64}\n",
    "\n",
    "Generate a vector of `n` unequally spaced points between `x_min` and `x_max`. The spacing is determined by the parameter `phi`, which must be greater than 1.\n",
    "\n",
    "# Arguments\n",
    "- `x_min::Real`: The minimum value (inclusive) in the generated vector.\n",
    "- `x_max::Real`: The maximum value (inclusive) in the generated vector.\n",
    "- `n::Int`: The number of points to generate in the vector.\n",
    "- `phi::Real`: A parameter that determines the spacing of the points in the vector. The closer `phi` is to 1, the closer to equal spacing. The further away `phi` is from one, the more points are clustered around `x_min`.\n",
    "\n",
    "# Returns\n",
    "- `Vector{Float64}`: A vector containing the `n` unequally spaced points between `x_min` and `x_max`.\n",
    "\"\"\"\n",
    "function nonlinspace(x_min::Real, x_max::Real, n::Int, phi::Real)\n",
    "    n ≤ 2 && throw(error(\"Number of gridpoints must be larger than 2\"))\n",
    "    x_min > x_max && throw(error(\"`x_min` larger than `x_max`\"))\n",
    "    phi ≤ 1 && throw(error(\"`phi` must be larger than one\"))\n",
    "    a_grid = Vector{Float64}(undef, n)\n",
    "    a_grid[1] = x_min\n",
    "    for i in 2:n-1\n",
    "        a_grid[i] = a_grid[i-1] + (x_max - a_grid[i-1]) / ((n - i)^phi)\n",
    "    end\n",
    "    return a_grid\n",
    "end"
   ]
  },
  {
   "cell_type": "code",
   "execution_count": 26,
   "metadata": {},
   "outputs": [
    {
     "data": {
      "text/plain": [
       "50-element Vector{Float64}:\n",
       "     1.0\n",
       "     5.33984375\n",
       "     9.86436170212766\n",
       "    14.585597826086957\n",
       "    19.516666666666666\n",
       "    24.671875\n",
       "    30.066860465116278\n",
       "    35.71875\n",
       "    41.646341463414636\n",
       "    47.870312500000004\n",
       "     ⋮\n",
       "  1068.6015625\n",
       "  1250.875\n",
       "  1493.90625\n",
       "  1834.15\n",
       "  2344.515625\n",
       "  3195.125\n",
       "  4896.34375\n",
       " 10000.0\n",
       "     6.95222497552726e-310"
      ]
     },
     "metadata": {},
     "output_type": "display_data"
    }
   ],
   "source": [
    "nonlinspace(1, 10_000, 50, 2)"
   ]
  },
  {
   "cell_type": "code",
   "execution_count": 27,
   "metadata": {},
   "outputs": [
    {
     "data": {
      "text/plain": [
       "equilogspace (generic function with 1 method)"
      ]
     },
     "metadata": {},
     "output_type": "display_data"
    }
   ],
   "source": [
    "\"\"\"\n",
    "    equilogspace(x_min::Real, x_max::Real, n::Int, pivot::Real) -> Vector{Float64}\n",
    "\n",
    "Generate a vector of `n` points between `x_min` and `x_max` that are approximately equidistant in logarithmic scale. The `pivot` parameter determines the location of the pivot point. The closer `pivot` is to `x_min`, the more points are clustered around `x_min`.\n",
    "\n",
    "# Arguments\n",
    "- `x_min::Real`: The minimum value (inclusive) in the generated vector.\n",
    "- `x_max::Real`: The maximum value (inclusive) in the generated vector.\n",
    "- `n::Int`: The number of points to generate in the vector.\n",
    "- `pivot::Real`: A parameter that determines the location of the pivot point.\n",
    "\n",
    "# Returns\n",
    "- `Vector{Float64}`: A vector containing the `n` points approximately equidistant in logarithmic scale between `x_min` and `x_max`.\n",
    "\"\"\"\n",
    "\n",
    "function equilogspace(x_min::Real, x_max::Real, n::Int, pivot::Real)\n",
    "    n ≤ 2 && throw(error(\"Number of gridpoints must be larger than 2\"))\n",
    "    x_min > x_max && throw(error(\"`x_min` larger than `x_max`\"))\n",
    "    # if x_min + pivot < 0 \n",
    "    #     x_min + pivot = pivot\n",
    "    #     pivot += abs(x_min)\n",
    "    a_grid = geomspace(x_min + pivot, x_max + pivot, n) .- pivot\n",
    "    a_grid[1] = x_min # make sure that this is exactly equal to x_min\n",
    "    return a_grid\n",
    "end"
   ]
  },
  {
   "cell_type": "code",
   "execution_count": 28,
   "metadata": {},
   "outputs": [
    {
     "data": {
      "text/plain": [
       "50-element Vector{Float64}:\n",
       "     1.0\n",
       "     1.5401243051579154\n",
       "     2.177493365323272\n",
       "     2.92961526573895\n",
       "     3.817150272439985\n",
       "     4.864478355406926\n",
       "     6.100368889402166\n",
       "     7.558770928705879\n",
       "     9.279745764049526\n",
       "    11.310567378437925\n",
       "     ⋮\n",
       "  2658.166339531716\n",
       "  3137.106504779731\n",
       "  3702.2757446833466\n",
       "  4369.198865586818\n",
       "  5156.19578224753\n",
       "  6084.884753165843\n",
       "  7180.776219125848\n",
       "  8473.973557279232\n",
       " 10000.000000000004"
      ]
     },
     "metadata": {},
     "output_type": "display_data"
    }
   ],
   "source": [
    "equilogspace(1, 10_000, 50, 2)"
   ]
  },
  {
   "attachments": {},
   "cell_type": "markdown",
   "metadata": {},
   "source": [
    "We see here the vastly greater concentration of gridpoints near the borrowing constraint: out of 50, the first 12 points are less than 1, the next 10 points are less than 5, and so on. Similarly, we see the thinly spaced points near the top: 6 points cover almost the entire span from 1000 to 10,000. With the *double* exponential, the ratio between each pair of successive points grows as we go higher on the grid."
   ]
  }
 ],
 "metadata": {
  "kernelspec": {
   "display_name": "Julia 1.9.0",
   "language": "julia",
   "name": "julia-1.9"
  },
  "language_info": {
   "file_extension": ".jl",
   "mimetype": "application/julia",
   "name": "julia",
   "version": "1.9.0"
  },
  "orig_nbformat": 4
 },
 "nbformat": 4,
 "nbformat_minor": 2
}
