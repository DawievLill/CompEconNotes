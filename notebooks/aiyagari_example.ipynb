{
 "cells": [
  {
   "attachments": {},
   "cell_type": "markdown",
   "metadata": {},
   "source": [
    "# The Aiyagari model"
   ]
  },
  {
   "attachments": {},
   "cell_type": "markdown",
   "metadata": {},
   "source": [
    "Here we follow the work of Aiyagari and Huggett. There are many resources to follow here. We will look at a few different implementations in Julia. "
   ]
  },
  {
   "attachments": {},
   "cell_type": "markdown",
   "metadata": {},
   "source": [
    "### Model description"
   ]
  },
  {
   "attachments": {},
   "cell_type": "markdown",
   "metadata": {},
   "source": [
    "Aggregate behaviour is result of market interaction among large number of agents subject to idiosyncratic shocks. This involves asset trading as the main mechanism by which agents smooth consumption. There is also individual dynamics and uncertainty in this model. \n",
    "\n",
    "Aggregate variables are unchanging in this model. \n",
    "\n",
    "Model is built around the standard neoclassical growth model and is modified to include a role for uninsured idiosyncratic risk and liquidity / borrowing constraints.\n",
    "\n"
   ]
  },
  {
   "attachments": {},
   "cell_type": "markdown",
   "metadata": {},
   "source": []
  }
 ],
 "metadata": {
  "kernelspec": {
   "display_name": "Julia 1.9.0",
   "language": "julia",
   "name": "julia-1.9"
  },
  "language_info": {
   "file_extension": ".jl",
   "mimetype": "application/julia",
   "name": "julia",
   "version": "1.9.0"
  },
  "orig_nbformat": 4
 },
 "nbformat": 4,
 "nbformat_minor": 2
}
